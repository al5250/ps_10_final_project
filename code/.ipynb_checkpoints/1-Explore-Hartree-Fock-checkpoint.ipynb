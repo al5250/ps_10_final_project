{
 "cells": [
  {
   "cell_type": "code",
   "execution_count": 1,
   "metadata": {
    "collapsed": true
   },
   "outputs": [],
   "source": [
    "import numpy as np\n",
    "from scipy.special import hyp1f1\n",
    "import pandas as pd"
   ]
  },
  {
   "cell_type": "markdown",
   "metadata": {},
   "source": [
    "A Note on Units:\n",
    "- Length in **bohrs** (0.529 angstroms)\n",
    "- Energy in **hartrees** (27.2 eV)"
   ]
  },
  {
   "cell_type": "code",
   "execution_count": 2,
   "metadata": {
    "collapsed": true
   },
   "outputs": [],
   "source": [
    "# Basis functions\n",
    "def eval_gaussian(r, R, alpha):\n",
    "    '''\n",
    "    Evaluates normalized Gaussian function at 3D location r with 3D mean R and 1D inverse-variance alpha. \n",
    "    '''\n",
    "    return (2 * alpha / np.pi)**0.75 * np.exp(-alpha * np.dot(r - R, r - R))"
   ]
  },
  {
   "cell_type": "code",
   "execution_count": 3,
   "metadata": {
    "collapsed": false
   },
   "outputs": [],
   "source": [
    "def load_basis_set(filename='STO-3G.txt'):\n",
    "    basis_dict = {}\n",
    "    with open(filename, 'r') as fp:\n",
    "        line = fp.readline()\n",
    "        while line:\n",
    "            if line[0] == '-':\n",
    "                atom = line.split()[0][1:]\n",
    "                orbital_types = []\n",
    "                expos = []\n",
    "                coefs = []\n",
    "                line = fp.readline()\n",
    "                while line[0] != '*':\n",
    "                    orbital = line.split()[0]\n",
    "                    if orbital == 'S':\n",
    "                        orb_expos = []\n",
    "                        orb_coefs = []\n",
    "                        for _ in range(3):\n",
    "                            line = fp.readline()\n",
    "                            vals = [float(x) for x in list(line.split())]\n",
    "                            orb_expos.append(vals[0])\n",
    "                            orb_coefs.append(vals[1])\n",
    "                        orbital_types.append('S')\n",
    "                        expos.append(orb_expos)\n",
    "                        coefs.append(orb_coefs)\n",
    "                    elif orbital == 'SP':\n",
    "                        orb_expos = []\n",
    "                        orb_coefs_S = []\n",
    "                        orb_coefs_P = []\n",
    "                        for _ in range(3):\n",
    "                            line = fp.readline()\n",
    "                            vals = [float(x) for x in list(line.split())]\n",
    "                            orb_expos.append(vals[0])\n",
    "                            orb_coefs_S.append(vals[1])\n",
    "                            orb_coefs_P.append(vals[2])\n",
    "                        orbital_types.append('S')\n",
    "                        expos.append(orb_expos)\n",
    "                        coefs.append(orb_coefs_S)\n",
    "                        for t in ['Px', 'Py', 'Pz']:\n",
    "                            orbital_types.append(t)\n",
    "                            expos.append(orb_expos)\n",
    "                            coefs.append(orb_coefs_P)\n",
    "                    else:\n",
    "                        raise ValueError('Orbital {} not supported!'.format(orbital))\n",
    "                    line = fp.readline()\n",
    "                basis_dict[atom] = {'orbital_types' : np.array(orbital_types), \n",
    "                                    'expos' : np.array(expos),\n",
    "                                    'coefs': np.array(coefs)}\n",
    "            line = fp.readline()\n",
    "        return basis_dict"
   ]
  },
  {
   "cell_type": "code",
   "execution_count": 4,
   "metadata": {
    "collapsed": true
   },
   "outputs": [],
   "source": [
    "basis_set = load_basis_set()"
   ]
  },
  {
   "cell_type": "code",
   "execution_count": 5,
   "metadata": {
    "collapsed": false
   },
   "outputs": [],
   "source": [
    "# Rs = np.array([[0, 0, 0], [1.4, 0, 0]])\n",
    "# atoms = np.array(['H', 'H'])\n",
    "# Zs = np.array([1, 1])\n",
    "# Rs = np.array([[0, 0, 0], [1.4632, 0, 0]])\n",
    "\n",
    "# Rs = np.array([\n",
    "#         [-0.422389457, -0.422389457, -0.422389457],\n",
    "#         [+0.422389457, +0.422389457, +0.422389457]\n",
    "#     ])\n",
    "# atoms = np.array(['He', 'H'])\n",
    "# Zs = np.array([2, 1])\n",
    "\n",
    "# Rs = np.array([\n",
    "#         [0, 0, 0],\n",
    "#         [2.074, 0, 0]\n",
    "#     ])\n",
    "# atoms = np.array(['N', 'N'])\n",
    "# Zs = np.array([7, 7])\n",
    "\n",
    "###################################\n",
    "############## WATER ##############\n",
    "###################################\n",
    "# Rs = np.array([\n",
    "#         [0.000000000000,  -0.143225816552,   0.000000000000],\n",
    "#         [1.638036840407,   1.136548822547,  -0.000000000000],\n",
    "#         [-1.638036840407,   1.136548822547,  -0.000000000000]\n",
    "#     ])\n",
    "# atoms = np.array(['O', 'H', 'H'])\n",
    "# Zs = np.array([8, 1, 1])\n",
    "\n",
    "###################################\n",
    "############ METHANE ##############\n",
    "###################################\n",
    "Rs = np.array([\n",
    "        [-0.000000000000,   0.000000000000,   0.000000000000],\n",
    "        [1.183771681898,  -1.183771681898,  -1.183771681898],\n",
    "        [1.183771681898,   1.183771681898,   1.183771681898],\n",
    "        [-1.183771681898,   1.183771681898,  -1.183771681898],\n",
    "        [-1.183771681898,  -1.183771681898,   1.183771681898]\n",
    "])\n",
    "atoms = np.array(['C', 'H', 'H', 'H', 'H'])\n",
    "Zs = np.array([6, 1, 1, 1, 1])\n",
    "\n",
    "n_nuclei = atoms.shape[0]\n",
    "\n",
    "ao_types = [basis_set[a]['orbital_types'] for a in atoms]\n",
    "ao_exps = [basis_set[a]['expos'] for a in atoms]\n",
    "ao_coefs = [basis_set[a]['coefs'] for a in atoms]\n",
    "\n",
    "orbital_counts = [len(at) for at in ao_types]\n",
    "ao_types = np.hstack(ao_types)\n",
    "ao_exps = np.vstack(ao_exps)\n",
    "ao_coefs = np.vstack(ao_coefs)\n",
    "ao2nuc = np.repeat(np.arange(n_nuclei), orbital_counts, axis=0)\n",
    "n_orbitals = ao2nuc.shape[0]\n",
    "N = Zs.sum()"
   ]
  },
  {
   "cell_type": "code",
   "execution_count": 6,
   "metadata": {
    "collapsed": true
   },
   "outputs": [],
   "source": [
    "# N = 2\n",
    "# ao_exps[0] = ao_exps[1] / (1.24 ** 2) * (2.0925 ** 2) "
   ]
  },
  {
   "cell_type": "code",
   "execution_count": 7,
   "metadata": {
    "collapsed": true
   },
   "outputs": [],
   "source": [
    "def overlap_expansion_coefs(a, b, R_A, R_B, l_A_max=0, l_B_max=0):\n",
    "    '''\n",
    "    Recursively compute expansion coefficients for the overlap distribution of two Cartesian Gaussians expressed as Hermite Gaussians.  Inputs Gaussian exponents `a`, `b`, centers `R_A`, `R_B`, and maximum azimuthal quantum numbers `l_A_max`, `l_b_max`.  Outputs a (3, t_max+1, l_A_max+1, l_B_max+1) tensor `E` where t_max = l_A_max + l_B_max.  \n",
    "    '''\n",
    "    t_max = l_A_max + l_B_max + 1\n",
    "    E = np.full((3, t_max + 1, l_A_max + 1, l_B_max + 1), np.nan)\n",
    "    \n",
    "    for i in range(3):\n",
    "        \n",
    "        p = a + b\n",
    "        R_P_i = (a * R_A[i] + b * R_B[i]) / p\n",
    "        R_AB_i = R_B[i] - R_A[i]\n",
    "        R_AP_i = R_P_i - R_A[i]\n",
    "        R_BP_i = R_P_i - R_B[i]\n",
    "        \n",
    "        # Base Case (l_A = 0)\n",
    "        E[i, 0, 0, 0] = np.exp(-a * b / p * R_AB_i ** 2)\n",
    "        E[i, 1:, 0, 0] = 0\n",
    "        \n",
    "        E[i, t_max, :, :] = 0\n",
    "        \n",
    "        for l_A in range(1, l_A_max + 1):\n",
    "            for t in range(0, t_max):\n",
    "                if t > l_A:\n",
    "                    E[i, t, l_A, 0] = 0\n",
    "                else:\n",
    "                    E[i, t, l_A, 0] = 1 / (2*p) * E[i, t-1, l_A-1, 0] + \\\n",
    "                                        R_AP_i * E[i, t, l_A-1, 0] + \\\n",
    "                                        (t+1) * E[i, t+1, l_A-1, 0]\n",
    "        \n",
    "        for l_B in range(1, l_B_max + 1):\n",
    "            for l_A in range(0, l_A_max + 1):\n",
    "                for t in range(0, t_max):\n",
    "                    E[i, t, l_A, l_B] = 1 / (2*p) * E[i, t-1, l_A, l_B-1] + \\\n",
    "                                        R_BP_i * E[i, t, l_A, l_B-1] + \\\n",
    "                                        (t+1) * E[i, t+1, l_A, l_B-1]                \n",
    "    return E"
   ]
  },
  {
   "cell_type": "code",
   "execution_count": 8,
   "metadata": {
    "collapsed": true
   },
   "outputs": [],
   "source": [
    "def angular_vector(ao_type):\n",
    "    '''\n",
    "    Matches the input string `ao_type` to a vector of 3D Cartesian coordinates representing the azimuthal and magnetic quantum numbers.  Currently, only s and p type orbitals are supported.\n",
    "    '''\n",
    "    if ao_type == 'S':\n",
    "        return np.array([0, 0, 0])\n",
    "    elif ao_type == 'Px':\n",
    "        return np.array([1, 0, 0])\n",
    "    elif ao_type == 'Py':\n",
    "        return np.array([0, 1, 0])\n",
    "    elif ao_type == 'Pz':\n",
    "        return np.array([0, 0, 1])\n",
    "    else:\n",
    "        raise NotImplementedError()\n",
    "\n",
    "def gaussian_norm_coef(a, l_A):\n",
    "    '''\n",
    "    Calculates the normalization constant for a Gaussian given exponent `a` and orbital type `l_A`.\n",
    "    '''\n",
    "    if l_A == 0:\n",
    "        return (2 * a / np.pi) ** (3/4)\n",
    "    elif l_A == 1:\n",
    "        return (128 * a ** 5 / np.pi ** 3) ** (1/4)\n",
    "    else:\n",
    "        raise NotImplementedError('Input `l_A` must be an integer <= 1.')\n",
    "        \n",
    "        \n",
    "def overlap(E, a, b, L_A, L_B):\n",
    "    '''\n",
    "    Computes the overlap integral given expansion coefficients `E` and parameters for two Gaussian. \n",
    "    '''\n",
    "    p = a + b\n",
    "    n_A = gaussian_norm_coef(a, L_A.sum())\n",
    "    n_B = gaussian_norm_coef(b, L_B.sum())\n",
    "    S_x = (np.pi / p) ** (1/2) * E[0, 0, L_A[0], L_B[0]]\n",
    "    S_y = (np.pi / p) ** (1/2) * E[1, 0, L_A[1], L_B[1]]\n",
    "    S_z = (np.pi / p) ** (1/2) * E[2, 0, L_A[2], L_B[2]]\n",
    "    S = n_A * n_B * S_x * S_y * S_z\n",
    "    return S\n",
    "\n",
    "def _kinetic_1d(E, a, b, l_A, l_B):\n",
    "    '''\n",
    "    Computes the kinetic energy integral in one dimension given expansion coefficients `E` and parameters for two Gaussian. \n",
    "    '''\n",
    "    p = a + b\n",
    "    S_i_jp2 = (np.pi / p) ** (1/2) * E[0, l_A, l_B + 2]\n",
    "    S_i_j = (np.pi / p) ** (1/2) * E[0, l_A, l_B]\n",
    "    if l_B >= 2:\n",
    "        S_i_jm2 = (np.pi / p) ** (1/2) * E[0, l_A, l_B - 2]\n",
    "    else:\n",
    "        S_i_jm2 = 0\n",
    "    T = -2 * b ** 2 * S_i_jp2 + b * (2 * l_B + 1) * S_i_j - 1/2 * l_B * (l_B - 1) * S_i_jm2\n",
    "    return T\n",
    "\n",
    "def kinetic(E, a, b, L_A, L_B):\n",
    "    '''\n",
    "    Computes the kinetic energy integral given expansion coefficients `E` and parameters for two Gaussian. \n",
    "    '''\n",
    "    p = a + b\n",
    "    n_A = gaussian_norm_coef(a, L_A.sum())\n",
    "    n_B = gaussian_norm_coef(b, L_B.sum())\n",
    "    S_x = (np.pi / p) ** (1/2) * E[0, 0, L_A[0], L_B[0]] \n",
    "    S_y = (np.pi / p) ** (1/2) * E[1, 0, L_A[1], L_B[1]] \n",
    "    S_z = (np.pi / p) ** (1/2) * E[2, 0, L_A[2], L_B[2]]\n",
    "    T_x = _kinetic_1d(E[0], a, b, L_A[0], L_B[0])\n",
    "    T_y = _kinetic_1d(E[1], a, b, L_A[1], L_B[1])\n",
    "    T_z = _kinetic_1d(E[2], a, b, L_A[2], L_B[2])\n",
    "    return n_A * n_B * (T_x * S_y * S_z + S_x * T_y * S_z + S_x * S_y * T_z)"
   ]
  },
  {
   "cell_type": "code",
   "execution_count": 9,
   "metadata": {
    "collapsed": false
   },
   "outputs": [],
   "source": [
    "def boys(n, T):\n",
    "    return hyp1f1(n + 0.5, n + 1.5, -T) / (2.0 * n + 1.0) "
   ]
  },
  {
   "cell_type": "code",
   "execution_count": 10,
   "metadata": {
    "collapsed": false
   },
   "outputs": [],
   "source": [
    "def coulomb_auxiliary_integrals(p, R_P, R_C, t_max=1, u_max=1, v_max=1):\n",
    "    \n",
    "    R_PC = R_P - R_C\n",
    "    R2_PC = np.sum(R_PC ** 2)\n",
    "    \n",
    "    n_max = t_max + u_max + v_max\n",
    "    R = np.full((n_max + 1, t_max + 1, u_max + 1, v_max + 1), np.nan)\n",
    "    \n",
    "    # Base Case (n, t=0, u=0, v=0)\n",
    "    for n in range(0, n_max + 1):\n",
    "        R[n, 0, 0, 0] = (-2 * p) ** n * boys(n, p * R2_PC)\n",
    "    \n",
    "    if t_max >= 1:\n",
    "        # (n, t=1, u=0, v=0)\n",
    "        for n in range(0, n_max):\n",
    "                R[n, 1, 0, 0] = R_PC[0] * R[n+1, 0, 0, 0]\n",
    "\n",
    "        # (n, t>1, u=0, v=0)\n",
    "        for t in range(2, t_max + 1):\n",
    "            for n in range(n_max + 1 - t):\n",
    "                R[n, t, 0, 0] = R_PC[0] * R[n+1, t-1, 0, 0] + (t-1) * R[n+1, t-2, 0, 0]\n",
    "    \n",
    "    if u_max >= 1:\n",
    "        # (n, t, u=1, v=0)\n",
    "        for t in range(0, t_max + 1):\n",
    "            for n in range(0, n_max - t):\n",
    "                R[n, t, 1, 0] = R_PC[1] * R[n+1, t, 0, 0]\n",
    "\n",
    "        # (n, t, u>1, v=0)\n",
    "        for u in range(2, u_max + 1):\n",
    "            for t in range(0, t_max + 1):\n",
    "                for n in range(0, n_max + 1 - u - t):\n",
    "                    R[n, t, u, 0] = R_PC[1] * R[n+1, t, u-1, 0] + (u-1) * R[n+1, t, u-2, 0]\n",
    "    \n",
    "    if v_max >=1 :\n",
    "        # (n, t, u, v=1)\n",
    "        for u in range(0, u_max + 1):\n",
    "            for t in range(0, t_max + 1):\n",
    "                for n in range(0, n_max - u - t):\n",
    "                    R[n, t, u, 1] = R_PC[2] * R[n+1, t, u, 0]\n",
    "\n",
    "        # (n, t, u, v>1)\n",
    "        for v in range(2, v_max + 1):\n",
    "            for u in range(0, u_max + 1):\n",
    "                for t in range(0, t_max + 1):\n",
    "                    for n in range(0, n_max + 1 - v - u - t):\n",
    "                        R[n, t, u, v] = R_PC[2] * R[n+1, t, u, v-1] + (v-1) * R[n+1, t, u, v-2]\n",
    "                    \n",
    "    return R\n",
    "\n",
    "def _coulomb_attraction_1d_nucleus(E, R, Z_C, a, b, L_A, L_B):\n",
    "    p = a + b\n",
    "    Theta = 0\n",
    "    for t in range(L_A[0] + L_B[0] + 1):\n",
    "        for u in range(L_A[1] + L_B[1] + 1):\n",
    "            for v in range(L_A[2] + L_B[2] + 1):\n",
    "                Theta += E[0, t, L_A[0], L_B[0]] * E[1, u, L_A[1], L_B[1]] * E[2, v, L_A[2], L_B[2]] * R[0, t, u, v]\n",
    "    return -2 * np.pi / p * Z_C * Theta \n",
    "\n",
    "def coulomb_attraction(E, a, b, R_A, R_B, L_A, L_B, R_Cs, Z_Cs):\n",
    "    n_A = gaussian_norm_coef(a, L_A.sum())\n",
    "    n_B = gaussian_norm_coef(b, L_B.sum())\n",
    "    V = 0\n",
    "    p = a + b\n",
    "    R_P = (a * R_A + b * R_B) / p\n",
    "    for R_C, Z_C in zip(R_Cs, Z_Cs):\n",
    "        R = coulomb_auxiliary_integrals(p, R_P, R_C, t_max=2, u_max=2, v_max=2)\n",
    "        V += _coulomb_attraction_1d_nucleus(E, R, Z_C, a, b, L_A, L_B)\n",
    "    return n_A * n_B * V\n",
    "\n",
    "def coulomb_repulsion(E1, E2, a, b, c, d, R_A, R_B, R_C, R_D, L_A, L_B, L_C, L_D):\n",
    "    n_A = gaussian_norm_coef(a, L_A.sum())\n",
    "    n_B = gaussian_norm_coef(b, L_B.sum())\n",
    "    n_C = gaussian_norm_coef(c, L_C.sum())\n",
    "    n_D = gaussian_norm_coef(d, L_D.sum())\n",
    "    p = a + b\n",
    "    q = c + d\n",
    "    alpha = p * q / (p + q)\n",
    "    R_P = (a * R_A + b * R_B) / p\n",
    "    R_Q = (c * R_C + d * R_D) / q\n",
    "    L_ABCD = L_A + L_B + L_C + L_D\n",
    "    R = coulomb_auxiliary_integrals(alpha, R_P, R_Q, t_max=L_ABCD[0], u_max=L_ABCD[1], v_max=L_ABCD[2])\n",
    "    V = 0\n",
    "    for t1 in range(L_A[0] + L_B[0] + 1):\n",
    "        for u1 in range(L_A[1] + L_B[1] + 1):\n",
    "            for v1 in range(L_A[2] + L_B[2] + 1):\n",
    "                for t2 in range(L_C[0] + L_D[0] + 1):\n",
    "                    for u2 in range(L_C[1] + L_D[1] + 1):\n",
    "                        for v2 in range(L_C[2] + L_D[2] + 1):\n",
    "                            V += E1[0, t1, L_A[0], L_B[0]] * E1[1, u1, L_A[1], L_B[1]] * E1[2, v1, L_A[2], L_B[2]] * \\\n",
    "                                 E2[0, t2, L_C[0], L_D[0]] * E2[1, u2, L_C[1], L_D[1]] * E2[2, v2, L_C[2], L_D[2]] * \\\n",
    "                                 (-1)**(t2+u2+v2) * R[0, t1+t2, u1+u2, v1+v2]\n",
    "    return n_A * n_B * n_C * n_D * 2 * (np.pi) ** (5/2) / p / q / np.sqrt(p + q) * V"
   ]
  },
  {
   "cell_type": "code",
   "execution_count": 24,
   "metadata": {
    "collapsed": false
   },
   "outputs": [],
   "source": [
    "S = np.full((n_orbitals, n_orbitals), np.nan)\n",
    "T = np.full((n_orbitals, n_orbitals), np.nan)\n",
    "V1 = np.full((n_orbitals, n_orbitals), np.nan)\n",
    "\n",
    "for ao_A in range(n_orbitals):\n",
    "    for ao_B in range(n_orbitals):\n",
    "\n",
    "        a, b = ao_exps[ao_A], ao_exps[ao_B]\n",
    "        d_A, d_B = ao_coefs[ao_A], ao_coefs[ao_B]\n",
    "        R_A, R_B = Rs[ao2nuc[ao_A]], Rs[ao2nuc[ao_B]]\n",
    "        L_A, L_B = angular_vector(ao_types[ao_A]), angular_vector(ao_types[ao_B])\n",
    "\n",
    "        S_AB = np.zeros((a.size, b.size))\n",
    "        T_AB = np.zeros((a.size, b.size))\n",
    "        V1_AB = np.zeros((a.size, b.size))\n",
    "        for i in range(a.size):\n",
    "            for j in range(b.size):\n",
    "                E = overlap_expansion_coefs(a[i], b[j], R_A, R_B, 3, 3)\n",
    "                S_AB[i, j] = d_A[i] * d_B[j] * overlap(E, a[i], b[j], L_A, L_B)\n",
    "                T_AB[i, j] = d_A[i] * d_B[j] * kinetic(E, a[i], b[j], L_A, L_B)\n",
    "                V1_AB[i, j] = d_A[i] * d_B[j] * coulomb_attraction(E, a[i], b[j], R_A, R_B, L_A, L_B, Rs, Zs)\n",
    "                \n",
    "        S[ao_A, ao_B] = S_AB.sum()\n",
    "        T[ao_A, ao_B] = T_AB.sum()\n",
    "        V1[ao_A, ao_B] = V1_AB.sum()\n",
    "\n",
    "Es = {}\n",
    "for ao_A in range(n_orbitals):\n",
    "    for ao_B in range(n_orbitals):\n",
    "        a, b = ao_exps[ao_A], ao_exps[ao_B]\n",
    "        R_A, R_B = Rs[ao2nuc[ao_A]], Rs[ao2nuc[ao_B]]\n",
    "        for i in range(a.size):\n",
    "            for j in range(b.size):\n",
    "                Es[(ao_A, ao_B, i, j)] = overlap_expansion_coefs(a[i], b[j], R_A, R_B, 2, 2)\n",
    "\n",
    "V2 = np.full((n_orbitals, n_orbitals, n_orbitals, n_orbitals), np.nan)\n",
    "# Pre-screen electron-electron integrals\n",
    "for ao_A in range(n_orbitals):\n",
    "    for ao_B in range(n_orbitals):\n",
    "        if np.isnan(V2[ao_A, ao_B, ao_A, ao_B]):\n",
    "            a, b = ao_exps[ao_A], ao_exps[ao_B]\n",
    "            d_A, d_B = ao_coefs[ao_A], ao_coefs[ao_B]\n",
    "            R_A, R_B = Rs[ao2nuc[ao_A]], Rs[ao2nuc[ao_B]]\n",
    "            L_A, L_B = angular_vector(ao_types[ao_A]), angular_vector(ao_types[ao_B])\n",
    "            V2_ABAB = np.zeros((a.size, b.size, a.size, b.size))\n",
    "            for i in range(a.size):\n",
    "                for j in range(b.size):\n",
    "                    for k in range(a.size):\n",
    "                        for l in range(b.size):\n",
    "                            E1 = Es[(ao_A, ao_B, i, j)]\n",
    "                            E2 = Es[(ao_A, ao_B, k, l)]\n",
    "                            V2_ABAB[i, j, k, l] = d_A[i] * d_B[j] * d_A[k] * d_B[l] * coulomb_repulsion(E1, E2, a[i], b[j], a[k], b[l], R_A, R_B, R_A, R_B, L_A, L_B, L_A, L_B) \n",
    "            val = V2_ABAB.sum()\n",
    "            V2[ao_A, ao_B, ao_A, ao_B] = val\n",
    "            V2[ao_B, ao_A, ao_B, ao_A] = val\n",
    "            V2[ao_B, ao_A, ao_A, ao_B] = val\n",
    "            V2[ao_A, ao_B, ao_B, ao_A] = val            \n",
    "\n",
    "thres = 1e-7\n",
    "screened = 0\n",
    "for ao_A in range(n_orbitals):\n",
    "    for ao_B in range(n_orbitals):\n",
    "        for ao_C in range(n_orbitals):\n",
    "            for ao_D in range(n_orbitals):\n",
    "                if np.isnan(V2[ao_A, ao_B, ao_C, ao_D]):\n",
    "                    \n",
    "                    # Prescreen integral value\n",
    "                    test = np.sqrt(V2[ao_A, ao_B, ao_A, ao_B]) * np.sqrt(V2[ao_C, ao_D, ao_C, ao_D])\n",
    "                    if test <= thres:\n",
    "                        val = 0\n",
    "                        screened += 1\n",
    "                    else:\n",
    "                        a, b, c, d = ao_exps[ao_A], ao_exps[ao_B], ao_exps[ao_C], ao_exps[ao_D]\n",
    "                        d_A, d_B, d_C, d_D = ao_coefs[ao_A], ao_coefs[ao_B], ao_coefs[ao_C], ao_coefs[ao_D]\n",
    "                        R_A, R_B, R_C, R_D = Rs[ao2nuc[ao_A]], Rs[ao2nuc[ao_B]], Rs[ao2nuc[ao_C]], Rs[ao2nuc[ao_D]]\n",
    "                        L_A, L_B, L_C, L_D = angular_vector(ao_types[ao_A]), angular_vector(ao_types[ao_B]), angular_vector(ao_types[ao_C]), angular_vector(ao_types[ao_D])\n",
    "                        V2_ABCD = np.zeros((a.size, b.size, c.size, d.size))\n",
    "                        for i in range(a.size):\n",
    "                            for j in range(b.size):\n",
    "                                for k in range(c.size):\n",
    "                                    for l in range(d.size):\n",
    "                                        E1 = Es[(ao_A, ao_B, i, j)]\n",
    "                                        E2 = Es[(ao_C, ao_D, k, l)]\n",
    "                                        V2_ABCD[i, j, k, l] = d_A[i] * d_B[j] * d_C[k] * d_D[l] * coulomb_repulsion(E1, E2, a[i], b[j], c[k], d[l], R_A, R_B, R_C, R_D, L_A, L_B, L_C, L_D) \n",
    "                        val = V2_ABCD.sum()\n",
    "                    V2[ao_A, ao_B, ao_C, ao_D] = val\n",
    "                    V2[ao_C, ao_D, ao_A, ao_B] = val\n",
    "                    V2[ao_B, ao_A, ao_D, ao_C] = val\n",
    "                    V2[ao_D, ao_C, ao_B, ao_A] = val\n",
    "                    V2[ao_B, ao_A, ao_C, ao_D] = val\n",
    "                    V2[ao_D, ao_C, ao_A, ao_B] = val\n",
    "                    V2[ao_A, ao_B, ao_D, ao_C] = val\n",
    "                    V2[ao_C, ao_D, ao_B, ao_A] = val\n",
    "                    #print(ao_A, ao_B, ao_C, ao_D)"
   ]
  },
  {
   "cell_type": "code",
   "execution_count": 25,
   "metadata": {
    "collapsed": false
   },
   "outputs": [],
   "source": [
    "# Nuclear repulsion energy\n",
    "V_NN = 0\n",
    "for i in range(n_nuclei):\n",
    "    for j in range(i+1, n_nuclei):\n",
    "        V_NN += Zs[i] * Zs[j] / np.sqrt(np.sum((Rs[i] - Rs[j]) ** 2))"
   ]
  },
  {
   "cell_type": "code",
   "execution_count": 26,
   "metadata": {
    "collapsed": false
   },
   "outputs": [
    {
     "data": {
      "text/plain": [
       "13.497304462033398"
      ]
     },
     "execution_count": 26,
     "metadata": {},
     "output_type": "execute_result"
    }
   ],
   "source": [
    "V_NN"
   ]
  },
  {
   "cell_type": "code",
   "execution_count": 27,
   "metadata": {
    "collapsed": false
   },
   "outputs": [],
   "source": [
    "eig_S, U = np.linalg.eigh(S)\n",
    "eig_S_sqrt = eig_S ** (-1/2) * np.eye(len(eig_S))\n",
    "X = U @ eig_S_sqrt @ U.conj().T\n",
    "H = T + V1"
   ]
  },
  {
   "cell_type": "code",
   "execution_count": 28,
   "metadata": {
    "collapsed": false
   },
   "outputs": [],
   "source": [
    "F = H.copy()\n",
    "F_ = X.conj().T @ F @ X \n",
    "eps, C_ = np.linalg.eigh(F_)\n",
    "C = X @ C_\n",
    "P = np.zeros((n_orbitals, n_orbitals))\n",
    "for mu in range(n_orbitals):\n",
    "    for nu in range(n_orbitals):\n",
    "        for m in range(N // 2):\n",
    "            P[mu, nu] += C[mu, m] * C[nu, m]\n",
    "G = np.zeros((n_orbitals, n_orbitals))\n",
    "for ao1 in range(n_orbitals):\n",
    "    for ao2 in range(n_orbitals):\n",
    "        for ao3 in range(n_orbitals):\n",
    "            for ao4 in range(n_orbitals):\n",
    "                G[ao1, ao2] += (P[ao3, ao4] * (2 * V2[ao1, ao2, ao4, ao3] - V2[ao1, ao3, ao4, ao2]))\n",
    "F = H + G"
   ]
  },
  {
   "cell_type": "code",
   "execution_count": 29,
   "metadata": {
    "collapsed": false
   },
   "outputs": [
    {
     "name": "stdout",
     "output_type": "stream",
     "text": [
      "0 -49.58075303527532 -36.083448573241924\n",
      "1 -53.06181788117689 -39.564513419143495\n",
      "2 -53.21914078576 -39.7218363237266\n",
      "3 -53.22399745997904 -39.72669299794564\n",
      "4 -53.22414981544592 -39.72684535341252\n",
      "5 -53.224154619528264 -39.726850157494866\n",
      "6 -53.224154773175286 -39.72685031114189\n",
      "7 -53.22415477821302 -39.72685031617962\n",
      "8 -53.22415477838563 -39.726850316352234\n",
      "9 -53.22415477839198 -39.72685031635858\n",
      "10 -53.22415477839223 -39.726850316358835\n",
      "11 -53.22415477839224 -39.72685031635884\n",
      "12 -53.22415477839225 -39.72685031635885\n",
      "13 -53.22415477839226 -39.72685031635886\n"
     ]
    }
   ],
   "source": [
    "F = H.copy()\n",
    "# F = np.zeros((n_orbitals, n_orbitals))\n",
    "# for mu in range(n_orbitals):\n",
    "#     for nu in range(n_orbitals):\n",
    "#         F[mu, nu] = 1.75 * S[mu, nu] * (H[mu, nu] + H[nu, nu]) / 2\n",
    "P = np.zeros((n_orbitals, n_orbitals))\n",
    "P_prev = np.full((n_orbitals, n_orbitals), np.inf)\n",
    "i = 0\n",
    "while np.max(np.abs(P - P_prev)) > 1e-8:\n",
    "    F_ = X.conj().T @ F @ X \n",
    "    eps, C_ = np.linalg.eigh(F_)\n",
    "    C = X @ C_\n",
    "    P_prev = P\n",
    "    P = np.zeros((n_orbitals, n_orbitals))\n",
    "    for mu in range(n_orbitals):\n",
    "        for nu in range(n_orbitals):\n",
    "            for m in range(N // 2):\n",
    "                P[mu, nu] += C[mu, m] * C[nu, m]\n",
    "    G = np.zeros((n_orbitals, n_orbitals))\n",
    "    for ao1 in range(n_orbitals):\n",
    "        for ao2 in range(n_orbitals):\n",
    "            for ao3 in range(n_orbitals):\n",
    "                for ao4 in range(n_orbitals):\n",
    "                    G[ao1, ao2] += (P[ao3, ao4] * (2 * V2[ao1, ao2, ao4, ao3] - V2[ao1, ao3, ao4, ao2]))\n",
    "    F = H + G\n",
    "    E0 = np.sum(P * (H + F))\n",
    "    E_tot = E0 + V_NN\n",
    "    print(i, E0, E_tot)\n",
    "    \n",
    "    i += 1"
   ]
  },
  {
   "cell_type": "code",
   "execution_count": 17,
   "metadata": {
    "collapsed": false
   },
   "outputs": [
    {
     "data": {
      "text/plain": [
       "array([-11.0698062 ,  -0.95626083,  -0.50657467,  -0.50657467,\n",
       "        -0.50657467,   0.43292629,   0.72149175,   0.72149175,\n",
       "         0.72149175])"
      ]
     },
     "execution_count": 17,
     "metadata": {},
     "output_type": "execute_result"
    }
   ],
   "source": [
    "eps"
   ]
  },
  {
   "cell_type": "code",
   "execution_count": 63,
   "metadata": {
    "collapsed": false
   },
   "outputs": [],
   "source": [
    "# U = np.array([\n",
    "#         [2**(-1/2), 2**(-1/2)],\n",
    "#         [2**(-1/2), -2**(-1/2)]\n",
    "#     ])\n",
    "# s = np.diag([(1 + S[0, 1]) ** (-1/2),(1 - S[0, 1]) ** (-1/2)]) \n",
    "# X = U @ s"
   ]
  },
  {
   "cell_type": "code",
   "execution_count": 40,
   "metadata": {
    "collapsed": false
   },
   "outputs": [
    {
     "data": {
      "text/plain": [
       "array([[[[1.30714751, 0.43727805],\n",
       "         [0.43727805, 0.60570147]],\n",
       "\n",
       "        [[0.43727805, 0.1772667 ],\n",
       "         [0.1772667 , 0.31179381]]],\n",
       "\n",
       "\n",
       "       [[[0.43727805, 0.1772667 ],\n",
       "         [0.1772667 , 0.31179381]],\n",
       "\n",
       "        [[0.60570147, 0.31179381],\n",
       "         [0.31179381, 0.77460593]]]])"
      ]
     },
     "execution_count": 40,
     "metadata": {},
     "output_type": "execute_result"
    }
   ],
   "source": [
    "V2"
   ]
  },
  {
   "cell_type": "code",
   "execution_count": 23,
   "metadata": {
    "collapsed": true
   },
   "outputs": [],
   "source": [
    "def calc_overlap_matrix(a, b, R_A, R_B, l_A_max=0, l_B_max=0):\n",
    "    s = np.zeros((3, l_A_max + 2, l_B_max + 1))\n",
    "    \n",
    "    for i in range(3):\n",
    "        \n",
    "        # Base Case\n",
    "        s[i, 0, 0] = 1\n",
    "        R_P_i = (a * R_A[i] + b * R_B[i]) / (a + b)\n",
    "        s[i, 1, 0] = R_P_i - R_A[i]\n",
    "        \n",
    "        # Recurrence relation\n",
    "        for l_A in range(2, l_A_max + 2):\n",
    "            s[i, l_A, 0] = (R_P_i - R_A[i]) * s[i, l_A-1, 0] + (l_A - 1) / (2 * (a + b)) * s[i, l_A-2, 0]\n",
    "        \n",
    "        # Transfer equation\n",
    "        for l_B in range(1, l_B_max + 1):\n",
    "            for l_A in range(0, l_A_max + 2):\n",
    "                s[i, l_A-1, l_B] = s[i, l_A, l_B-1] + (R_A[i] - R_B[i]) * s[i, l_A-1, l_B - 1] \n",
    "            \n",
    "    return s[:, :-1, :]\n",
    "\n"
   ]
  },
  {
   "cell_type": "code",
   "execution_count": 24,
   "metadata": {
    "collapsed": false
   },
   "outputs": [],
   "source": [
    "def gaussian_norm_coef(a, l_A):\n",
    "    if l_A == 0:\n",
    "        return (2 * a / np.pi) ** (3/4)\n",
    "    elif l_A == 1:\n",
    "        return (128 * a ** 5 / np.pi ** 3) ** (1/4)\n",
    "    else:\n",
    "        raise NotImplementedError('Input l_A must be an integer <= 1.')\n",
    "\n",
    "def overlap(s, a, b, R_A, R_B, L_A=np.array([0, 0, 0]), L_B=np.array([0, 0, 0])):\n",
    "    p = a + b\n",
    "    R2_AB = np.sum((R_a - R_b) ** 2)\n",
    "    E_AB = np.exp(-a * b / p * R2_AB)\n",
    "    n_A = gaussian_norm_coef(a, L_A.sum())\n",
    "    n_B = gaussian_norm_coef(b, L_B.sum())\n",
    "    S = n_A * n_B * (np.pi / p) ** (3/2) * E_AB * s[0, L_A[0], L_B[0]] * s[1, L_A[1], L_B[1]] * s[2, L_A[2], L_B[2]]\n",
    "    return S"
   ]
  },
  {
   "cell_type": "code",
   "execution_count": 376,
   "metadata": {
    "collapsed": false
   },
   "outputs": [],
   "source": [
    "s = calc_overlap_matrix(a, b, R_a, R_b, 1, 1)"
   ]
  },
  {
   "cell_type": "code",
   "execution_count": 378,
   "metadata": {
    "collapsed": true
   },
   "outputs": [],
   "source": [
    "def angular_vector(ao_type):\n",
    "    if ao_type == 'S':\n",
    "        return np.array([0, 0, 0])\n",
    "    elif ao_type == 'Px':\n",
    "        return np.array([1, 0, 0])\n",
    "    elif ao_type == 'Py':\n",
    "        return np.array([0, 1, 0])\n",
    "    elif ao_type == 'Pz':\n",
    "        return np.array([0, 0, 1])\n",
    "    else:\n",
    "        raise NotImplementedError()"
   ]
  },
  {
   "cell_type": "code",
   "execution_count": 410,
   "metadata": {
    "collapsed": false
   },
   "outputs": [],
   "source": [
    "S = np.zeros((n_orbitals, n_orbitals))\n",
    "\n",
    "for ao_A in range(n_orbitals):\n",
    "    for ao_B in range(n_orbitals):\n",
    "        \n",
    "        a, b = ao_exps[ao_A], ao_exps[ao_B]\n",
    "        d_A, d_B = ao_coefs[ao_A], ao_coefs[ao_B]\n",
    "        R_A, R_B = Rs[ao_A], Rs[ao_B]\n",
    "        L_A, L_B = angular_vector(ao_types[ao_A]), angular_vector(ao_types[ao_B])\n",
    "        \n",
    "        S_AB = np.zeros((a.size, b.size))\n",
    "        for i in range(a.size):\n",
    "            for j in range(b.size):\n",
    "                s = calc_overlap_matrix(a[i], b[j], R_a, R_b, L_A.sum(), L_B.sum())\n",
    "                S_AB[i, j] = d_A[i] * d_B[j] * overlap(s, a[i], b[j], R_A, R_B, L_A, L_B)\n",
    "                \n",
    "        S[ao_A, ao_B] = S_AB.sum()"
   ]
  },
  {
   "cell_type": "code",
   "execution_count": 415,
   "metadata": {
    "collapsed": false
   },
   "outputs": [
    {
     "data": {
      "text/plain": [
       "array([[ 0.5028,  0.5028,  0.05  ,  0.454 ,  0.    ,  0.2928, -0.2455],\n",
       "       [ 0.5028,  0.5028,  0.05  ,  0.454 ,  0.    ,  0.2928, -0.2455],\n",
       "       [ 0.05  ,  0.05  ,  0.    ,  0.0459,  0.    ,  0.0584, -0.049 ],\n",
       "       [ 0.454 ,  0.454 ,  0.0459,  0.4198,  0.    ,  0.3257, -0.2732],\n",
       "       [ 0.    ,  0.    ,  0.    ,  0.    ,  0.2573,  0.    ,  0.    ],\n",
       "       [-0.2928, -0.2928, -0.0584, -0.3257,  0.    , -0.0847,  0.2869],\n",
       "       [ 0.2455,  0.2455,  0.049 ,  0.2732,  0.    ,  0.2869,  0.0167]])"
      ]
     },
     "execution_count": 415,
     "metadata": {},
     "output_type": "execute_result"
    }
   ],
   "source": [
    "S.round(4)"
   ]
  },
  {
   "cell_type": "code",
   "execution_count": 372,
   "metadata": {
    "collapsed": false
   },
   "outputs": [
    {
     "data": {
      "text/plain": [
       "-0.0017123475858432068"
      ]
     },
     "execution_count": 372,
     "metadata": {},
     "output_type": "execute_result"
    }
   ],
   "source": [
    "a, b = ao_exps[0, 0], ao_exps[6, 0]\n",
    "R_a, R_b = Rs[0], Rs[6]\n",
    "overlap(s, a, b, R_a, R_B, np.array([0, 0, 0]), np.array([0, 0, 1]))"
   ]
  },
  {
   "cell_type": "code",
   "execution_count": 289,
   "metadata": {
    "collapsed": false
   },
   "outputs": [],
   "source": [
    "def overlap(a, b, R_A, R_B, i_A=np.array([0, 0, 0]), i_B=np.array([0, 0, 0])):\n",
    "    '''\n",
    "    Evaluates all pairs of normalized overlap integrals for two sets of Gaussians, given exponents (`a`, `b`), 3D centers (`R_A`, `R_B`), and 3D Cartesian angular values (`i_A`, `i_B`).  This function supports s and p orbitals only; that is, `i_A` and `i_B` may each have a maximum of one non-zero component.  For example, a p_x orbital would be expressed using `i_A = np.array([1, 0, 0])`.    \n",
    "    '''\n",
    "    a, b = np.meshgrid(a, b, indexing='ij')\n",
    "    ab = a * b / (a + b)\n",
    "    l_A = np.sum(i_A)\n",
    "    l_B = np.sum(i_B)\n",
    "    R2_AB = np.sum((R_B - R_A) ** 2)\n",
    "    \n",
    "    if l_A == 0:\n",
    "        n_A = (2 * a / np.pi) ** (3/4)\n",
    "    elif l_A == 1:\n",
    "        n_A = (128 * a ** 5 / np.pi ** 3) ** (1/4)\n",
    "    else:\n",
    "        raise ValueError('Input error for i_A.')\n",
    "        \n",
    "    if l_B == 0:\n",
    "        n_B = (2 * b / np.pi) ** (3/4)\n",
    "    elif l_B:\n",
    "        n_B = (128 * b ** 5 / np.pi ** 3) ** (1/4)\n",
    "    else:\n",
    "        raise ValueError('Input error for i_B.')\n",
    "        \n",
    "    R_P = np.zeros((len(a), len(b), 3))\n",
    "    for i in range(len(a)):\n",
    "        for j in range(len(b)):\n",
    "            R_P[i, j, :] = (a[i, i] * R_A + b[j, j] * R_B) / (a[i, i] + b[j, j])\n",
    "    R_AP = R_P - R_A\n",
    "    R_BP = R_P - R_B\n",
    "        \n",
    "    # Calculate base case overlap integral\n",
    "    S_00 = (np.pi / (a + b)) ** (3/2) * np.exp(-ab * R2_AB)\n",
    "    \n",
    "    if l_A == 0 and l_B == 0:\n",
    "        return n_A * n_B * S_00\n",
    "    elif l_A == 1 and l_B == 0:\n",
    "        return  n_A * n_B * R_AP[:, :, np.argmax(i_A)] * S_00\n",
    "    elif l_A == 0 and l_B == 1:\n",
    "        return  n_A * n_B * R_BP[:, :, np.argmax(i_B)] * S_00\n",
    "    elif l_A == 1 and l_B == 1:\n",
    "        m_A = np.argmax(i_A)\n",
    "        m_B = np.argmax(i_B)\n",
    "        if m_A != m_B:\n",
    "            return n_A * n_B * R_AP[:, :, m_A] * R_BP[:, :, m_B] * S_00\n",
    "        else:\n",
    "            return n_A * n_B * (R_AP[:, :, m_A] * R_BP[:, :, m_B] * S_00 + 1 / (2 * (a + b)) * S_00)"
   ]
  },
  {
   "cell_type": "code",
   "execution_count": 315,
   "metadata": {
    "collapsed": false
   },
   "outputs": [
    {
     "name": "stdout",
     "output_type": "stream",
     "text": [
      "CPU times: user 18.6 ms, sys: 2.54 ms, total: 21.1 ms\n",
      "Wall time: 21 ms\n"
     ]
    }
   ],
   "source": [
    "S = np.zeros((n_orbitals, n_orbitals))\n",
    "for ao1 in range(n_orbitals):\n",
    "    for ao2 in range(n_orbitals):\n",
    "        \n",
    "        a, b = ao_exps[ao1], ao_exps[ao2]\n",
    "        R_A, R_B = Rs[ao1], Rs[ao2]\n",
    "        d_A, d_B = np.meshgrid(ao_coefs[ao1], ao_coefs[ao2], indexing='ij')\n",
    "        \n",
    "        if ao_types[ao1] == 'S':\n",
    "            i_A = np.array([0, 0, 0])\n",
    "        elif ao_types[ao1] == 'Px':\n",
    "            i_A = np.array([1, 0, 0])\n",
    "        elif ao_types[ao1] == 'Py':\n",
    "            i_A = np.array([0, 1, 0])\n",
    "        elif ao_types[ao1] == 'Pz':\n",
    "            i_A = np.array([0, 0, 1])\n",
    "            \n",
    "        if ao_types[ao2] == 'S':\n",
    "            i_B = np.array([0, 0, 0])\n",
    "        elif ao_types[ao2] == 'Px':\n",
    "            i_B = np.array([1, 0, 0])\n",
    "        elif ao_types[ao2] == 'Py':\n",
    "            i_B = np.array([0, 1, 0])\n",
    "        elif ao_types[ao2] == 'Pz':\n",
    "            i_B = np.array([0, 0, 1])\n",
    "            \n",
    "        S[ao1, ao2] = np.sum(d_A * d_B * overlap(a, b, R_A, R_B, i_A, i_B))"
   ]
  },
  {
   "cell_type": "code",
   "execution_count": 316,
   "metadata": {
    "collapsed": false
   },
   "outputs": [
    {
     "data": {
      "text/plain": [
       "array([[ 1.   ,  0.251,  0.05 ,  0.454,  0.   ,  0.293, -0.246],\n",
       "       [ 0.251,  1.   ,  0.05 ,  0.454,  0.   , -0.293, -0.246],\n",
       "       [ 0.05 ,  0.05 ,  1.   ,  0.237,  0.   ,  0.   , -0.   ],\n",
       "       [ 0.454,  0.454,  0.237,  1.   ,  0.   ,  0.   ,  0.   ],\n",
       "       [ 0.   ,  0.   ,  0.   ,  0.   ,  1.   ,  0.   ,  0.   ],\n",
       "       [ 0.293, -0.293,  0.   ,  0.   ,  0.   ,  1.   ,  0.   ],\n",
       "       [-0.246, -0.246, -0.   ,  0.   ,  0.   ,  0.   ,  1.   ]])"
      ]
     },
     "execution_count": 316,
     "metadata": {},
     "output_type": "execute_result"
    }
   ],
   "source": [
    "S.round(3)"
   ]
  },
  {
   "cell_type": "code",
   "execution_count": 306,
   "metadata": {
    "collapsed": false
   },
   "outputs": [
    {
     "data": {
      "text/plain": [
       "0.0"
      ]
     },
     "execution_count": 306,
     "metadata": {},
     "output_type": "execute_result"
    }
   ],
   "source": [
    "np.sum(ao_coefs[5].reshape(-1, 1) * ao_coefs[6] * overlap(ao_exps[5], ao_exps[6], Rs[5], Rs[6], np.array([0, 1, 0]), np.array([0, 0, 1])))"
   ]
  },
  {
   "cell_type": "code",
   "execution_count": null,
   "metadata": {
    "collapsed": true
   },
   "outputs": [],
   "source": [
    "S = np.zeros((n_orbitals, n_orbitals))\n",
    "T = np.zeros((n_orbitals, n_orbitals))\n",
    "V = np.zeros((n_orbitals, n_orbitals))\n",
    "for ao1 in [0]:\n",
    "    for ao2 in [6]:\n",
    "\n",
    "        a, b = np.meshgrid(ao_exps[ao1], ao_exps[ao2], indexing='ij')\n",
    "        ab = a * b / (a + b)\n",
    "        d_A, d_B = np.meshgrid(ao_coefs[ao1], ao_coefs[ao2], indexing='ij') \n",
    "        n_A, n_B = (2 * a / np.pi) ** (3/4), (2 * b / np.pi) ** (3/4)\n",
    "        n_AB = n_A * n_B * (np.pi / (a + b)) ** (3/2)\n",
    "        R_A, R_B = Rs[ao1], Rs[ao2]\n",
    "        R2_AB = np.sum((R_A - R_B) ** 2)\n",
    "        \n",
    "         # Calculate overlap integral\n",
    "        S[ao1, ao2] = np.sum(d_A * d_B * n_AB * np.exp(-ab * R2_AB))\n",
    "        \n",
    "        # Calculate kinetic energy\n",
    "        T[ao1, ao2] = np.sum(d_A * d_B * n_AB * ab * (3 - 2 * ab * R2_AB) * np.exp(-ab * R2_AB))\n",
    "        \n",
    "        # Calculate potential energies\n",
    "        R_P = np.zeros((3, 3, 3))\n",
    "        for i in range(3):\n",
    "            for j in range(3):\n",
    "                R_P[i, j, :] = (ao_exps[ao1, i] * R_A + ao_exps[ao2, j] * R_B) / \\\n",
    "                                (ao_exps[ao1, i] + ao_exps[ao2, j])\n",
    "        for C in range(n_nuclei):\n",
    "            R_C = Rs[C]\n",
    "            R_PC = R_P - np.tile(R_C, (3, 3, 1))\n",
    "            R2_PC = np.sum(R_PC ** 2, 2)\n",
    "            V[ao1, ao2] += np.sum(d_A * d_B * n_A * n_B * -2 * np.pi / (a + b) * np.exp(-ab * R2_AB) * \\\n",
    "                Zs[C] * f0((a + b) * R2_PC))\n",
    "        \n",
    "H = T + V"
   ]
  },
  {
   "cell_type": "code",
   "execution_count": 261,
   "metadata": {
    "collapsed": false
   },
   "outputs": [],
   "source": [
    "z = (R_P - R_B)[:, :, -1]"
   ]
  },
  {
   "cell_type": "code",
   "execution_count": 269,
   "metadata": {
    "collapsed": false
   },
   "outputs": [],
   "source": [
    "n_A, n_B = (2 * a / np.pi) ** (3/4), (128 * b ** 5 / np.pi ** 3) ** (1/4)\n",
    "n_AB = n_A * n_B * (np.pi / (a + b)) ** (3/2)"
   ]
  },
  {
   "cell_type": "code",
   "execution_count": 270,
   "metadata": {
    "collapsed": false
   },
   "outputs": [
    {
     "data": {
      "text/plain": [
       "-0.245538187706151"
      ]
     },
     "execution_count": 270,
     "metadata": {},
     "output_type": "execute_result"
    }
   ],
   "source": [
    "np.sum(z * d_A * d_B * n_AB * np.exp(-ab * R2_AB))"
   ]
  },
  {
   "cell_type": "code",
   "execution_count": 215,
   "metadata": {
    "collapsed": false
   },
   "outputs": [
    {
     "data": {
      "text/plain": [
       "array([[10.74583258,  1.73374402,  0.42581899],\n",
       "       [10.74583258,  1.73374402,  0.42581899],\n",
       "       [10.74583258,  1.73374402,  0.42581899]])"
      ]
     },
     "execution_count": 215,
     "metadata": {},
     "output_type": "execute_result"
    }
   ],
   "source": [
    "n_B"
   ]
  },
  {
   "cell_type": "code",
   "execution_count": 149,
   "metadata": {
    "collapsed": false
   },
   "outputs": [
    {
     "data": {
      "text/plain": [
       "array([[1.  , 0.25, 0.05, 0.45, 0.38, 0.38, 0.38],\n",
       "       [0.25, 1.  , 0.05, 0.45, 0.38, 0.38, 0.38],\n",
       "       [0.05, 0.05, 1.  , 0.24, 0.47, 0.47, 0.47],\n",
       "       [0.45, 0.45, 0.24, 1.  , 0.99, 0.99, 0.99],\n",
       "       [0.38, 0.38, 0.47, 0.99, 1.1 , 1.1 , 1.1 ],\n",
       "       [0.38, 0.38, 0.47, 0.99, 1.1 , 1.1 , 1.1 ],\n",
       "       [0.38, 0.38, 0.47, 0.99, 1.1 , 1.1 , 1.1 ]])"
      ]
     },
     "execution_count": 149,
     "metadata": {},
     "output_type": "execute_result"
    }
   ],
   "source": [
    "S.round(2)"
   ]
  },
  {
   "cell_type": "code",
   "execution_count": 32,
   "metadata": {
    "collapsed": false
   },
   "outputs": [],
   "source": [
    "ele_ele_repulsion = np.empty((n_orbitals, n_orbitals, n_orbitals, n_orbitals))\n",
    "for ao1 in range(n_orbitals):\n",
    "    for ao2 in range(n_orbitals):\n",
    "        for ao3 in range(n_orbitals):\n",
    "            for ao4 in range(n_orbitals):\n",
    "                \n",
    "                ao1x, ao2x, ao3x, ao4x = np.meshgrid(ao_exps[ao1], ao_exps[ao2], \n",
    "                                     ao_exps[ao3], ao_exps[ao4], indexing='ij')\n",
    "                ao1c, ao2c, ao3c, ao4c = np.meshgrid(ao_coefs[ao1], ao_coefs[ao2], \n",
    "                                                     ao_coefs[ao3], ao_coefs[ao4], indexing='ij')\n",
    "                ao1n, ao2n, ao3n, ao4n = np.meshgrid((2 * ao_exps[ao1] / np.pi) ** (3/4), \n",
    "                                                     (2 * ao_exps[ao2] / np.pi) ** (3/4), \n",
    "                                                     (2 * ao_exps[ao3] / np.pi) ** (3/4), \n",
    "                                                     (2 * ao_exps[ao4] / np.pi) ** (3/4), \n",
    "                                                     indexing='ij') \n",
    "                ao1R, ao2R, ao3R, ao4R = Rs[[ao1, ao2, ao3, ao4]]\n",
    "                R1_R2_diff_sq = np.dot(ao2R - ao1R, ao2R - ao1R)\n",
    "                R3_R4_diff_sq = np.dot(ao4R - ao3R, ao4R - ao3R)\n",
    "                ao12R = np.empty((3, 3, 3))\n",
    "                for i in range(3):\n",
    "                    for j in range(3):\n",
    "                        ao12R[i, j, :] = (ao_exps[ao1, i] * Rs[ao1] + ao_exps[ao2, j] * Rs[ao2]) / \\\n",
    "                            (ao_exps[ao1, i] + ao_exps[ao2, j])\n",
    "\n",
    "                ao34R = np.empty((3, 3, 3))\n",
    "                for i in range(3):\n",
    "                    for j in range(3):\n",
    "                        ao34R[i, j, :] = (ao_exps[ao3, i] * Rs[ao3] + ao_exps[ao4, j] * Rs[ao4]) / \\\n",
    "                            (ao_exps[ao3, i] + ao_exps[ao4, j])\n",
    "\n",
    "                R12_R34_diff_sq = np.empty((3, 3, 3, 3))\n",
    "                for i in range(3):\n",
    "                    for j in range(3):\n",
    "                        for k in range(3):\n",
    "                            for l in range(3):\n",
    "                                R12_R34_diff_sq[i, j, k, l] = np.dot(ao34R[k, l] - ao12R[i, j], \n",
    "                                                                     ao34R[k, l] - ao12R[i, j])\n",
    "\n",
    "                ele_ele_repulsion_tmp = ao1n * ao2n * ao3n * ao4n * 2 * np.pi ** (5/2) / \\\n",
    "                    ((ao1x + ao2x) * (ao3x + ao4x) * (ao1x + ao2x + ao3x + ao4x) ** (1/2)) * \\\n",
    "                    np.exp(-ao1x * ao2x / (ao1x + ao2x) * R1_R2_diff_sq - \n",
    "                           ao3x * ao4x / (ao3x + ao4x) * R3_R4_diff_sq) * \\\n",
    "                    f0((ao1x + ao2x) * (ao3x + ao4x) / (ao1x + ao2x + ao3x + ao4x) * R12_R34_diff_sq)\n",
    "\n",
    "                ele_ele_repulsion[ao1, ao2, ao3, ao4] = np.sum(ao1c * ao2c * ao3c * ao4c * ele_ele_repulsion_tmp)\n"
   ]
  },
  {
   "cell_type": "code",
   "execution_count": 33,
   "metadata": {
    "collapsed": false
   },
   "outputs": [
    {
     "data": {
      "text/plain": [
       "array([[[[0.77460593, 0.44410765],\n",
       "         [0.44410765, 0.56967592]],\n",
       "\n",
       "        [[0.44410765, 0.29702853],\n",
       "         [0.29702853, 0.44410765]]],\n",
       "\n",
       "\n",
       "       [[[0.44410765, 0.29702853],\n",
       "         [0.29702853, 0.44410765]],\n",
       "\n",
       "        [[0.56967592, 0.44410765],\n",
       "         [0.44410765, 0.77460593]]]])"
      ]
     },
     "execution_count": 33,
     "metadata": {},
     "output_type": "execute_result"
    }
   ],
   "source": [
    "ele_ele_repulsion"
   ]
  },
  {
   "cell_type": "code",
   "execution_count": 44,
   "metadata": {
    "collapsed": true
   },
   "outputs": [],
   "source": [
    "U = np.array([\n",
    "        [2**(-1/2), 2**(-1/2)],\n",
    "        [2**(-1/2), -2**(-1/2)]\n",
    "    ])\n",
    "s = np.diag([(1 + S[0, 1]) ** (-1/2),(1 - S[0, 1]) ** (-1/2)]) \n",
    "X = U @ s"
   ]
  },
  {
   "cell_type": "code",
   "execution_count": 45,
   "metadata": {
    "collapsed": false
   },
   "outputs": [
    {
     "ename": "NameError",
     "evalue": "name 'ele_ele_repulsion' is not defined",
     "output_type": "error",
     "traceback": [
      "\u001b[0;31m---------------------------------------------------------------------------\u001b[0m",
      "\u001b[0;31mNameError\u001b[0m                                 Traceback (most recent call last)",
      "\u001b[0;32m<ipython-input-45-11b9c487523b>\u001b[0m in \u001b[0;36m<module>\u001b[0;34m()\u001b[0m\n\u001b[1;32m     14\u001b[0m             \u001b[0;32mfor\u001b[0m \u001b[0mao3\u001b[0m \u001b[0;32min\u001b[0m \u001b[0mrange\u001b[0m\u001b[0;34m(\u001b[0m\u001b[0mN\u001b[0m\u001b[0;34m)\u001b[0m\u001b[0;34m:\u001b[0m\u001b[0;34m\u001b[0m\u001b[0m\n\u001b[1;32m     15\u001b[0m                 \u001b[0;32mfor\u001b[0m \u001b[0mao4\u001b[0m \u001b[0;32min\u001b[0m \u001b[0mrange\u001b[0m\u001b[0;34m(\u001b[0m\u001b[0mN\u001b[0m\u001b[0;34m)\u001b[0m\u001b[0;34m:\u001b[0m\u001b[0;34m\u001b[0m\u001b[0m\n\u001b[0;32m---> 16\u001b[0;31m                     \u001b[0mG\u001b[0m\u001b[0;34m[\u001b[0m\u001b[0mao1\u001b[0m\u001b[0;34m,\u001b[0m \u001b[0mao2\u001b[0m\u001b[0;34m]\u001b[0m \u001b[0;34m+=\u001b[0m \u001b[0mnp\u001b[0m\u001b[0;34m.\u001b[0m\u001b[0msum\u001b[0m\u001b[0;34m(\u001b[0m\u001b[0mP\u001b[0m\u001b[0;34m[\u001b[0m\u001b[0mao3\u001b[0m\u001b[0;34m,\u001b[0m \u001b[0mao4\u001b[0m\u001b[0;34m]\u001b[0m \u001b[0;34m*\u001b[0m \u001b[0;34m(\u001b[0m\u001b[0mele_ele_repulsion\u001b[0m\u001b[0;34m[\u001b[0m\u001b[0mao1\u001b[0m\u001b[0;34m,\u001b[0m \u001b[0mao2\u001b[0m\u001b[0;34m,\u001b[0m \u001b[0mao4\u001b[0m\u001b[0;34m,\u001b[0m \u001b[0mao3\u001b[0m\u001b[0;34m]\u001b[0m \u001b[0;34m-\u001b[0m                                                          \u001b[0;36m1\u001b[0m\u001b[0;34m/\u001b[0m\u001b[0;36m2\u001b[0m \u001b[0;34m*\u001b[0m \u001b[0mele_ele_repulsion\u001b[0m\u001b[0;34m[\u001b[0m\u001b[0mao1\u001b[0m\u001b[0;34m,\u001b[0m \u001b[0mao3\u001b[0m\u001b[0;34m,\u001b[0m \u001b[0mao4\u001b[0m\u001b[0;34m,\u001b[0m \u001b[0mao2\u001b[0m\u001b[0;34m]\u001b[0m\u001b[0;34m)\u001b[0m\u001b[0;34m)\u001b[0m\u001b[0;34m\u001b[0m\u001b[0m\n\u001b[0m\u001b[1;32m     17\u001b[0m     \u001b[0mF\u001b[0m \u001b[0;34m=\u001b[0m \u001b[0mH\u001b[0m \u001b[0;34m+\u001b[0m \u001b[0mG\u001b[0m\u001b[0;34m\u001b[0m\u001b[0m\n\u001b[1;32m     18\u001b[0m     \u001b[0mE0\u001b[0m \u001b[0;34m=\u001b[0m \u001b[0;36m1\u001b[0m\u001b[0;34m/\u001b[0m\u001b[0;36m2\u001b[0m \u001b[0;34m*\u001b[0m \u001b[0mnp\u001b[0m\u001b[0;34m.\u001b[0m\u001b[0msum\u001b[0m\u001b[0;34m(\u001b[0m\u001b[0mP\u001b[0m \u001b[0;34m*\u001b[0m \u001b[0;34m(\u001b[0m\u001b[0mH\u001b[0m \u001b[0;34m+\u001b[0m \u001b[0mF\u001b[0m\u001b[0;34m)\u001b[0m\u001b[0;34m)\u001b[0m\u001b[0;34m\u001b[0m\u001b[0m\n",
      "\u001b[0;31mNameError\u001b[0m: name 'ele_ele_repulsion' is not defined"
     ]
    }
   ],
   "source": [
    "F = H.copy()\n",
    "P = np.zeros((N, N))\n",
    "P_prev = np.full((N, N), np.inf)\n",
    "i = 0\n",
    "while np.max(np.abs(P - P_prev)) > 1e-6:\n",
    "    F_ = X.conj().T @ F @ X \n",
    "    eps, C_ = np.linalg.eigh(F_)\n",
    "    C = X @ C_\n",
    "    P_prev = P\n",
    "    P = 2 * C[:, :int(N/2)] @ C[:, :int(N/2)].conj().T\n",
    "    G = np.zeros((N, N))\n",
    "    for ao1 in range(N):\n",
    "        for ao2 in range(N):\n",
    "            for ao3 in range(N):\n",
    "                for ao4 in range(N):\n",
    "                    G[ao1, ao2] += np.sum(P[ao3, ao4] * (ele_ele_repulsion[ao1, ao2, ao4, ao3] - \\\n",
    "                                                         1/2 * ele_ele_repulsion[ao1, ao3, ao4, ao2]))\n",
    "    F = H + G\n",
    "    E0 = 1/2 * np.sum(P * (H + F))\n",
    "    print(i, P[0, 0], P[1, 0], P[1, 1], E0)\n",
    "    \n",
    "    i += 1"
   ]
  },
  {
   "cell_type": "code",
   "execution_count": 38,
   "metadata": {
    "collapsed": false
   },
   "outputs": [
    {
     "data": {
      "text/plain": [
       "-1.1167143186700597"
      ]
     },
     "execution_count": 38,
     "metadata": {},
     "output_type": "execute_result"
    }
   ],
   "source": [
    "E0 + 1 / 1.4"
   ]
  },
  {
   "cell_type": "code",
   "execution_count": 480,
   "metadata": {
    "collapsed": false
   },
   "outputs": [],
   "source": [
    "F = H.copy()"
   ]
  },
  {
   "cell_type": "code",
   "execution_count": 482,
   "metadata": {
    "collapsed": false
   },
   "outputs": [
    {
     "data": {
      "text/plain": [
       "array([[-2.6527429 , -1.34720354],\n",
       "       [-1.34720354, -1.73182566]])"
      ]
     },
     "execution_count": 482,
     "metadata": {},
     "output_type": "execute_result"
    }
   ],
   "source": [
    "F"
   ]
  },
  {
   "cell_type": "code",
   "execution_count": 483,
   "metadata": {
    "collapsed": true
   },
   "outputs": [],
   "source": [
    "F_ = X.conj().T @ F @ X "
   ]
  },
  {
   "cell_type": "code",
   "execution_count": 484,
   "metadata": {
    "collapsed": false
   },
   "outputs": [],
   "source": [
    "eps, C_ = np.linalg.eigh(F_)"
   ]
  },
  {
   "cell_type": "code",
   "execution_count": 487,
   "metadata": {
    "collapsed": false
   },
   "outputs": [
    {
     "data": {
      "text/plain": [
       "array([[-0.91044534,  0.4136294 ],\n",
       "       [-0.4136294 , -0.91044534]])"
      ]
     },
     "execution_count": 487,
     "metadata": {},
     "output_type": "execute_result"
    }
   ],
   "source": [
    "C_"
   ]
  },
  {
   "cell_type": "code",
   "execution_count": 488,
   "metadata": {
    "collapsed": false
   },
   "outputs": [],
   "source": [
    "C = X @ C_"
   ]
  },
  {
   "cell_type": "code",
   "execution_count": 489,
   "metadata": {
    "collapsed": false
   },
   "outputs": [],
   "source": [
    "P = 2 * C[:, :int(N/2)] @ C[:, :int(N/2)].conj().T"
   ]
  },
  {
   "cell_type": "code",
   "execution_count": 490,
   "metadata": {
    "collapsed": false
   },
   "outputs": [
    {
     "data": {
      "text/plain": [
       "array([[1.72662644, 0.25985178],\n",
       "       [0.25985178, 0.03910687]])"
      ]
     },
     "execution_count": 490,
     "metadata": {},
     "output_type": "execute_result"
    }
   ],
   "source": [
    "P"
   ]
  },
  {
   "cell_type": "code",
   "execution_count": 491,
   "metadata": {
    "collapsed": true
   },
   "outputs": [],
   "source": [
    "G = np.zeros((N, N))\n",
    "for ao1 in range(N):\n",
    "    for ao2 in range(N):\n",
    "        for ao3 in range(N):\n",
    "            for ao4 in range(N):\n",
    "                G[ao1, ao2] += np.sum(P[ao3, ao4] * (ele_ele_repulsion[ao1, ao2, ao4, ao3] - \\\n",
    "                                                     1/2 * ele_ele_repulsion[ao1, ao3, ao4, ao2]))"
   ]
  },
  {
   "cell_type": "code",
   "execution_count": 492,
   "metadata": {
    "collapsed": false
   },
   "outputs": [
    {
     "data": {
      "text/plain": [
       "array([[1.26232841, 0.37400312],\n",
       "       [0.37400312, 0.98895078]])"
      ]
     },
     "execution_count": 492,
     "metadata": {},
     "output_type": "execute_result"
    }
   ],
   "source": [
    "G"
   ]
  },
  {
   "cell_type": "code",
   "execution_count": 494,
   "metadata": {
    "collapsed": false
   },
   "outputs": [
    {
     "data": {
      "text/plain": [
       "array([[-1.39041449, -0.97320042],\n",
       "       [-0.97320042, -0.74287488]])"
      ]
     },
     "execution_count": 494,
     "metadata": {},
     "output_type": "execute_result"
    }
   ],
   "source": [
    "H + G"
   ]
  },
  {
   "cell_type": "code",
   "execution_count": null,
   "metadata": {
    "collapsed": true
   },
   "outputs": [],
   "source": []
  }
 ],
 "metadata": {
  "anaconda-cloud": {},
  "kernelspec": {
   "display_name": "Python [py35]",
   "language": "python",
   "name": "Python [py35]"
  },
  "language_info": {
   "codemirror_mode": {
    "name": "ipython",
    "version": 3
   },
   "file_extension": ".py",
   "mimetype": "text/x-python",
   "name": "python",
   "nbconvert_exporter": "python",
   "pygments_lexer": "ipython3",
   "version": "3.5.2"
  }
 },
 "nbformat": 4,
 "nbformat_minor": 0
}
