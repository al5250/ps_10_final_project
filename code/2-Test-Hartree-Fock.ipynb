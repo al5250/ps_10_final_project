{
 "cells": [
  {
   "cell_type": "code",
   "execution_count": 202,
   "metadata": {
    "collapsed": false
   },
   "outputs": [
    {
     "name": "stdout",
     "output_type": "stream",
     "text": [
      "The autoreload extension is already loaded. To reload it, use:\n",
      "  %reload_ext autoreload\n"
     ]
    }
   ],
   "source": [
    "%load_ext autoreload\n",
    "%autoreload 2\n",
    "%matplotlib inline"
   ]
  },
  {
   "cell_type": "code",
   "execution_count": 229,
   "metadata": {
    "collapsed": false
   },
   "outputs": [],
   "source": [
    "import numpy as np\n",
    "import pandas as pd\n",
    "from hf import compute_all_integrals, hartree_fock\n",
    "from utils import load_basis_set\n",
    "import matplotlib.pyplot as plt\n",
    "import seaborn as sns"
   ]
  },
  {
   "cell_type": "code",
   "execution_count": 5,
   "metadata": {
    "collapsed": false
   },
   "outputs": [],
   "source": [
    "basis_set = load_basis_set('basis_sets/STO-3G.txt')"
   ]
  },
  {
   "cell_type": "code",
   "execution_count": 64,
   "metadata": {
    "collapsed": true
   },
   "outputs": [],
   "source": [
    "#################\n",
    "###### CH4 ######\n",
    "#################\n",
    "Rs = np.array([\n",
    "        [-0.000000000000,   0.000000000000,   0.000000000000],\n",
    "        [1.183771681898,  -1.183771681898,  -1.183771681898],\n",
    "        [1.183771681898,   1.183771681898,   1.183771681898],\n",
    "        [-1.183771681898,   1.183771681898,  -1.183771681898],\n",
    "        [-1.183771681898,  -1.183771681898,   1.183771681898]\n",
    "])\n",
    "atoms = np.array(['C', 'H', 'H', 'H', 'H'])\n",
    "Zs = np.array([6, 1, 1, 1, 1])"
   ]
  },
  {
   "cell_type": "code",
   "execution_count": 239,
   "metadata": {
    "collapsed": true
   },
   "outputs": [],
   "source": [
    "#################\n",
    "###### H2O ######\n",
    "#################\n",
    "Rs = np.array([\n",
    "        [0.000000000000,  -0.143225816552,   0.000000000000],\n",
    "        [1.638036840407,   1.136548822547,  -0.000000000000],\n",
    "        [-1.638036840407,   1.136548822547,  -0.000000000000]\n",
    "    ])\n",
    "atoms = np.array(['O', 'H', 'H'])\n",
    "Zs = np.array([8, 1, 1])"
   ]
  },
  {
   "cell_type": "code",
   "execution_count": 25,
   "metadata": {
    "collapsed": true
   },
   "outputs": [],
   "source": [
    "#################\n",
    "###### N2 #######\n",
    "#################\n",
    "Rs = np.array([\n",
    "        [0, 0, 0],\n",
    "        [0, 0, 2.074]\n",
    "    ])\n",
    "atoms = np.array(['N', 'N'])\n",
    "Zs = np.array([7, 7])"
   ]
  },
  {
   "cell_type": "code",
   "execution_count": 29,
   "metadata": {
    "collapsed": true
   },
   "outputs": [],
   "source": [
    "#################\n",
    "###### CO #######\n",
    "#################\n",
    "Rs = np.array([\n",
    "        [0, 0, 0],\n",
    "        [0, 0, 2.132]\n",
    "    ])\n",
    "atoms = np.array(['C', 'O'])\n",
    "Zs = np.array([6, 8])"
   ]
  },
  {
   "cell_type": "code",
   "execution_count": 193,
   "metadata": {
    "collapsed": true
   },
   "outputs": [],
   "source": [
    "#################\n",
    "###### FH #######\n",
    "#################\n",
    "Rs = np.array([\n",
    "        [0, 0, 0],\n",
    "        [0, 0, 1.807]\n",
    "    ])\n",
    "atoms = np.array(['F', 'H'])\n",
    "Zs = np.array([9, 1])"
   ]
  },
  {
   "cell_type": "code",
   "execution_count": 184,
   "metadata": {
    "collapsed": true
   },
   "outputs": [],
   "source": [
    "#################\n",
    "###### H #######\n",
    "#################\n",
    "Rs = np.array([\n",
    "        [0, 0, 0]\n",
    "    ])\n",
    "atoms = np.array(['F'])\n",
    "Zs = np.array([9])"
   ]
  },
  {
   "cell_type": "code",
   "execution_count": 195,
   "metadata": {
    "collapsed": false
   },
   "outputs": [
    {
     "name": "stdout",
     "output_type": "stream",
     "text": [
      "************************ Hartree-Fock Algorithm ************************\n",
      "num ele: 10 | num orb:  6 | nuc energy: 4.981\n",
      "int time: 2.62 sec\n",
      "iter: #  0 | ele energy: -102.80433886 | tot mol energy: -97.82370798\n",
      "iter: #  1 | ele energy: -103.54149928 | tot mol energy: -98.56086840\n",
      "iter: #  2 | ele energy: -103.55335458 | tot mol energy: -98.57272370\n",
      "iter: #  3 | ele energy: -103.55347425 | tot mol energy: -98.57284337\n",
      "iter: #  4 | ele energy: -103.55347733 | tot mol energy: -98.57284645\n",
      "iter: #  5 | ele energy: -103.55347747 | tot mol energy: -98.57284659\n",
      "iter: #  6 | ele energy: -103.55347748 | tot mol energy: -98.57284660\n",
      "iter: #  7 | ele energy: -103.55347748 | tot mol energy: -98.57284660\n",
      "iter: #  8 | ele energy: -103.55347748 | tot mol energy: -98.57284660\n",
      "iter: #  9 | ele energy: -103.55347748 | tot mol energy: -98.57284660\n",
      "iter: # 10 | ele energy: -103.55347748 | tot mol energy: -98.57284660\n",
      "iter: # 11 | ele energy: -103.55347748 | tot mol energy: -98.57284660\n",
      "iter: # 12 | ele energy: -103.55347748 | tot mol energy: -98.57284660\n",
      "************************************************************************\n"
     ]
    }
   ],
   "source": [
    "n_nuclei = atoms.shape[0]\n",
    "\n",
    "ao_types = [basis_set[a]['orbital_types'] for a in atoms]\n",
    "ao_exps = [basis_set[a]['expos'] for a in atoms]\n",
    "ao_coefs = [basis_set[a]['coefs'] for a in atoms]\n",
    "\n",
    "orbital_counts = [len(at) for at in ao_types]\n",
    "ao_types = np.hstack(ao_types)\n",
    "ao_exps = np.vstack(ao_exps)\n",
    "ao_coefs = np.vstack(ao_coefs)\n",
    "ao2nuc = np.repeat(np.arange(n_nuclei), orbital_counts, axis=0)\n",
    "n_orbitals = ao2nuc.shape[0]\n",
    "\n",
    "vals = hartree_fock(Zs.sum(), ao_exps, ao_coefs, ao_types, Rs, Zs, ao2nuc, verbose=True)"
   ]
  },
  {
   "cell_type": "code",
   "execution_count": 242,
   "metadata": {
    "collapsed": false
   },
   "outputs": [
    {
     "name": "stdout",
     "output_type": "stream",
     "text": [
      "1.5\n",
      "1.53\n",
      "1.56\n",
      "1.59\n",
      "1.62\n",
      "1.65\n",
      "1.68\n",
      "1.71\n",
      "1.74\n",
      "1.77\n",
      "1.8\n",
      "1.83\n",
      "1.8599999999999999\n",
      "1.8900000000000001\n",
      "1.92\n",
      "1.95\n",
      "1.98\n",
      "2.01\n",
      "2.04\n",
      "2.07\n",
      "2.1\n",
      "2.13\n",
      "2.16\n",
      "2.19\n",
      "2.2199999999999998\n",
      "2.25\n",
      "2.2800000000000002\n",
      "2.31\n",
      "2.34\n",
      "2.37\n",
      "2.4\n",
      "2.4299999999999997\n",
      "2.46\n",
      "2.49\n",
      "2.52\n",
      "2.55\n",
      "2.58\n",
      "2.61\n",
      "2.6399999999999997\n",
      "2.67\n",
      "2.7\n",
      "2.73\n",
      "2.76\n",
      "2.79\n",
      "2.82\n",
      "2.8499999999999996\n",
      "2.88\n",
      "2.91\n",
      "2.94\n",
      "2.9699999999999998\n",
      "3.0\n"
     ]
    }
   ],
   "source": [
    "energies = []\n",
    "atoms = np.array(['N', 'N'])\n",
    "n_nuclei = atoms.size\n",
    "Zs = np.array([7, 7])\n",
    "ao_types = [basis_set[a]['orbital_types'] for a in atoms]\n",
    "ao_exps = [basis_set[a]['expos'] for a in atoms]\n",
    "ao_coefs = [basis_set[a]['coefs'] for a in atoms]\n",
    "\n",
    "orbital_counts = [len(at) for at in ao_types]\n",
    "ao_types = np.hstack(ao_types)\n",
    "ao_exps = np.vstack(ao_exps)\n",
    "ao_coefs = np.vstack(ao_coefs)\n",
    "ao2nuc = np.repeat(np.arange(n_nuclei), orbital_counts, axis=0)\n",
    "n_orbitals = ao2nuc.shape[0]\n",
    "\n",
    "length_grid = np.linspace(1.5, 3.0, 51)\n",
    "\n",
    "for length in length_grid:\n",
    "    Rs = np.array([\n",
    "            [0, 0, 0],\n",
    "            [0, 0, length]\n",
    "        ])\n",
    "    vals = hartree_fock(Zs.sum(), ao_exps, ao_coefs, ao_types, Rs, Zs, ao2nuc)\n",
    "    energies.append(vals[0])\n",
    "    print(length)\n",
    "    "
   ]
  },
  {
   "cell_type": "code",
   "execution_count": 230,
   "metadata": {
    "collapsed": true
   },
   "outputs": [],
   "source": [
    "plt.style.use('seaborn-poster')"
   ]
  },
  {
   "cell_type": "code",
   "execution_count": 248,
   "metadata": {
    "collapsed": false
   },
   "outputs": [
    {
     "data": {
      "text/plain": [
       "<matplotlib.text.Text at 0x118188ef0>"
      ]
     },
     "execution_count": 248,
     "metadata": {},
     "output_type": "execute_result"
    },
    {
     "data": {
      "image/png": "[encoded data removed]",
      "text/plain": [
       "<matplotlib.figure.Figure at 0x1175882b0>"
      ]
     },
     "metadata": {},
     "output_type": "display_data"
    }
   ],
   "source": [
    "plt.figure(figsize=(8, 6))\n",
    "plt.plot(length_grid, energies)\n",
    "plt.axvline(length_grid[np.argmin(energies)], c='r', ls='--')\n",
    "plt.axvline(2.074, c='g', ls='--')\n",
    "plt.legend(['', 'Min HF Energy', 'Experiment'])\n",
    "plt.xlabel('Length (bohrs)')\n",
    "plt.ylabel('STO-3G HF Total Energy')\n",
    "plt.title('N$_2$')"
   ]
  },
  {
   "cell_type": "code",
   "execution_count": 189,
   "metadata": {
    "collapsed": false
   },
   "outputs": [
    {
     "data": {
      "text/plain": [
       "array([-24.70649102,  -0.59974467,   0.37319027,   0.37319027,\n",
       "         0.37319027])"
      ]
     },
     "execution_count": 189,
     "metadata": {},
     "output_type": "execute_result"
    }
   ],
   "source": [
    "vals[1]"
   ]
  },
  {
   "cell_type": "code",
   "execution_count": 190,
   "metadata": {
    "collapsed": false
   },
   "outputs": [
    {
     "data": {
      "text/plain": [
       "-97.98650495873598"
      ]
     },
     "execution_count": 190,
     "metadata": {},
     "output_type": "execute_result"
    }
   ],
   "source": [
    "vals[0] - vals[1][10 // 2 - 1]"
   ]
  },
  {
   "cell_type": "code",
   "execution_count": null,
   "metadata": {
    "collapsed": true
   },
   "outputs": [],
   "source": [
    "vals"
   ]
  },
  {
   "cell_type": "code",
   "execution_count": 69,
   "metadata": {
    "collapsed": true
   },
   "outputs": [],
   "source": [
    "kpm_in_ha = 627.509"
   ]
  },
  {
   "cell_type": "code",
   "execution_count": 73,
   "metadata": {
    "collapsed": false
   },
   "outputs": [
    {
     "data": {
      "text/plain": [
       "0.637263676358863"
      ]
     },
     "execution_count": 73,
     "metadata": {},
     "output_type": "execute_result"
    }
   ],
   "source": [
    "(-37.08958664 - 2 - (-39.72685031635886))"
   ]
  },
  {
   "cell_type": "code",
   "execution_count": 75,
   "metadata": {
    "collapsed": true
   },
   "outputs": [],
   "source": [
    "import pickle \n",
    "def read_pickle(filename):\n",
    "    return pickle.load(open(filename, 'rb'))"
   ]
  },
  {
   "cell_type": "code",
   "execution_count": 168,
   "metadata": {
    "collapsed": false
   },
   "outputs": [],
   "source": [
    "out_dict = read_pickle('hf_output2.p')"
   ]
  },
  {
   "cell_type": "code",
   "execution_count": 173,
   "metadata": {
    "collapsed": false
   },
   "outputs": [
    {
     "data": {
      "text/plain": [
       "['converged',\n",
       " 'converged',\n",
       " 'converged',\n",
       " 'converged',\n",
       " 'converged',\n",
       " 'converged',\n",
       " 'converged',\n",
       " 'converged',\n",
       " 'converged',\n",
       " 'converged',\n",
       " 'converged',\n",
       " 'diverged',\n",
       " 'converged',\n",
       " 'converged',\n",
       " 'converged',\n",
       " 'converged']"
      ]
     },
     "execution_count": 173,
     "metadata": {},
     "output_type": "execute_result"
    }
   ],
   "source": [
    "[out_dict[i][0][-1] for i in range(43, 59)]"
   ]
  },
  {
   "cell_type": "code",
   "execution_count": 164,
   "metadata": {
    "collapsed": false
   },
   "outputs": [
    {
     "data": {
      "text/plain": [
       "Rs            [[0.98091743, -0.1292835, 0.05179981], [2.3771...\n",
       "ae_pbe0                                                -969.847\n",
       "atoms                            [C, O, C, C, H, H, H, H, H, H]\n",
       "e1_zindo                                                6.41342\n",
       "ea_zindo                                               -0.79841\n",
       "emax_zindo                                              6.41342\n",
       "homo_gw                                                 -8.8279\n",
       "homo_pbe0                                               -6.5784\n",
       "homo_zindo                                                -9.42\n",
       "imax_zindo                                             0.392773\n",
       "ip_zindo                                                9.00595\n",
       "lumo_gw                                                  0.9931\n",
       "lumo_pbe0                                                0.0821\n",
       "lumo_zindo                                                1.254\n",
       "n_nuclei                                                     10\n",
       "p_pbe0                                                  7.06555\n",
       "p_scs                                                   7.13995\n",
       "n_non_H                                                       4\n",
       "Name: 49, dtype: object"
      ]
     },
     "execution_count": 164,
     "metadata": {},
     "output_type": "execute_result"
    }
   ],
   "source": [
    "df.iloc[49]"
   ]
  },
  {
   "cell_type": "code",
   "execution_count": 165,
   "metadata": {
    "collapsed": false
   },
   "outputs": [
    {
     "data": {
      "text/plain": [
       "Rs            [[0.98091743, -0.1292835, 0.05179981], [2.3771...\n",
       "ae_pbe0                                                -969.847\n",
       "atoms                            [C, O, C, C, H, H, H, H, H, H]\n",
       "e1_zindo                                                6.41342\n",
       "ea_zindo                                               -0.79841\n",
       "emax_zindo                                              6.41342\n",
       "homo_gw                                                 -8.8279\n",
       "homo_pbe0                                               -6.5784\n",
       "homo_zindo                                                -9.42\n",
       "imax_zindo                                             0.392773\n",
       "ip_zindo                                                9.00595\n",
       "lumo_gw                                                  0.9931\n",
       "lumo_pbe0                                                0.0821\n",
       "lumo_zindo                                                1.254\n",
       "n_nuclei                                                     10\n",
       "p_pbe0                                                  7.06555\n",
       "p_scs                                                   7.13995\n",
       "n_non_H                                                       4\n",
       "Name: 49, dtype: object"
      ]
     },
     "execution_count": 165,
     "metadata": {},
     "output_type": "execute_result"
    }
   ],
   "source": [
    "df.iloc[49]"
   ]
  },
  {
   "cell_type": "code",
   "execution_count": null,
   "metadata": {
    "collapsed": true
   },
   "outputs": [],
   "source": []
  }
 ],
 "metadata": {
  "anaconda-cloud": {},
  "kernelspec": {
   "display_name": "Python [py35]",
   "language": "python",
   "name": "Python [py35]"
  },
  "language_info": {
   "codemirror_mode": {
    "name": "ipython",
    "version": 3
   },
   "file_extension": ".py",
   "mimetype": "text/x-python",
   "name": "python",
   "nbconvert_exporter": "python",
   "pygments_lexer": "ipython3",
   "version": "3.5.2"
  }
 },
 "nbformat": 4,
 "nbformat_minor": 0
}
